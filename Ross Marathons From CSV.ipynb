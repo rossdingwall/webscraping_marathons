{
 "cells": [
  {
   "cell_type": "markdown",
   "metadata": {},
   "source": [
    "# Marathons From CSV:\n",
    "\n",
    "## This is going to be EDA for the marathon data from the CSV files. I'm doing this because we had issues webscraping. Not sure if this will be my primary notebook"
   ]
  },
  {
   "cell_type": "code",
   "execution_count": 1,
   "metadata": {},
   "outputs": [],
   "source": [
    "#Importing Packages\n",
    "\n",
    "import requests\n",
    "from bs4 import BeautifulSoup\n",
    "import pandas as pd\n",
    "from datetime import timedelta\n",
    "import numpy as np\n",
    "import matplotlib.pyplot as plt\n",
    "import seaborn as sns\n",
    "import statsmodels.api as sm"
   ]
  },
  {
   "cell_type": "code",
   "execution_count": 2,
   "metadata": {},
   "outputs": [],
   "source": [
    "full_2016_df = pd.read_csv('data/full_2016.csv')"
   ]
  },
  {
   "cell_type": "code",
   "execution_count": 3,
   "metadata": {},
   "outputs": [],
   "source": [
    "full_2017_df = pd.read_csv('data/full_2017.csv')"
   ]
  },
  {
   "cell_type": "code",
   "execution_count": 4,
   "metadata": {},
   "outputs": [],
   "source": [
    "full_2018_df = pd.read_csv('data/full_2018.csv')"
   ]
  },
  {
   "cell_type": "code",
   "execution_count": 5,
   "metadata": {},
   "outputs": [],
   "source": [
    "full_2019_df = pd.read_csv('data/full_2019.csv')"
   ]
  },
  {
   "cell_type": "code",
   "execution_count": 6,
   "metadata": {},
   "outputs": [],
   "source": [
    "half_2016_df = pd.read_csv('data/half_2016.csv')"
   ]
  },
  {
   "cell_type": "code",
   "execution_count": 7,
   "metadata": {},
   "outputs": [],
   "source": [
    "half_2017_df = pd.read_csv('data/half_2017.csv')"
   ]
  },
  {
   "cell_type": "code",
   "execution_count": 8,
   "metadata": {},
   "outputs": [],
   "source": [
    "half_2018_df = pd.read_csv('data/half_2018.csv')"
   ]
  },
  {
   "cell_type": "code",
   "execution_count": 9,
   "metadata": {},
   "outputs": [],
   "source": [
    "half_2019_df = pd.read_csv('data/half_2019.csv')"
   ]
  },
  {
   "cell_type": "markdown",
   "metadata": {},
   "source": [
    "# Next Step: getting year column into DFs"
   ]
  },
  {
   "cell_type": "code",
   "execution_count": 10,
   "metadata": {},
   "outputs": [],
   "source": [
    "#doing it for all other DFs\n",
    "full_2016_df['Year'] = 2016\n",
    "full_2017_df['Year'] = 2017\n",
    "full_2018_df['Year'] = 2018\n",
    "full_2019_df['Year'] = 2019\n",
    "half_2016_df['Year'] = 2016\n",
    "half_2017_df['Year'] = 2017\n",
    "half_2018_df['Year'] = 2018\n",
    "half_2019_df['Year'] = 2019"
   ]
  },
  {
   "cell_type": "markdown",
   "metadata": {},
   "source": [
    "# Creating concatenated dataframes for All Fulls and All Halfs"
   ]
  },
  {
   "cell_type": "code",
   "execution_count": 11,
   "metadata": {},
   "outputs": [],
   "source": [
    "all_full_df = pd.concat([full_2016_df, full_2017_df, full_2018_df, full_2019_df], axis=0)"
   ]
  },
  {
   "cell_type": "code",
   "execution_count": 12,
   "metadata": {},
   "outputs": [],
   "source": [
    "all_half_df = pd.concat([half_2016_df, half_2017_df, half_2018_df, half_2019_df], axis=0)"
   ]
  },
  {
   "cell_type": "markdown",
   "metadata": {},
   "source": [
    "# I'm gonna drop all of the finish times of zero, since I don't think I'm interested in looking at non-finishers. I'll name the DFs something else in case I change my mind. "
   ]
  },
  {
   "cell_type": "code",
   "execution_count": 13,
   "metadata": {},
   "outputs": [],
   "source": [
    "all_full_finishers_df = all_full_df[all_full_df.Time != '00:00:00' ]"
   ]
  },
  {
   "cell_type": "code",
   "execution_count": 14,
   "metadata": {},
   "outputs": [],
   "source": [
    "all_half_finishers_df = all_half_df[all_half_df.Time != '00:00:00' ]"
   ]
  },
  {
   "cell_type": "markdown",
   "metadata": {},
   "source": [
    "# Converting 'Time' to a timedelta variable. Because I'm playing with the regression model in the 2018 dataframe, I'm going to change the name to \"timedelta\" in that dataframe. I won't bother with renaming the other DFs for now, since I'm just playing with the 2018 full marathon."
   ]
  },
  {
   "cell_type": "code",
   "execution_count": 15,
   "metadata": {},
   "outputs": [
    {
     "name": "stderr",
     "output_type": "stream",
     "text": [
      "C:\\Users\\dingw\\Anaconda3_new\\lib\\site-packages\\ipykernel_launcher.py:1: SettingWithCopyWarning: \n",
      "A value is trying to be set on a copy of a slice from a DataFrame.\n",
      "Try using .loc[row_indexer,col_indexer] = value instead\n",
      "\n",
      "See the caveats in the documentation: http://pandas.pydata.org/pandas-docs/stable/indexing.html#indexing-view-versus-copy\n",
      "  \"\"\"Entry point for launching an IPython kernel.\n"
     ]
    }
   ],
   "source": [
    "all_full_finishers_df['Time'] = pd.to_timedelta(all_full_finishers_df['Time'])"
   ]
  },
  {
   "cell_type": "code",
   "execution_count": null,
   "metadata": {},
   "outputs": [],
   "source": []
  },
  {
   "cell_type": "code",
   "execution_count": 16,
   "metadata": {},
   "outputs": [],
   "source": [
    "full_2018_df['TimeDelta'] = pd.to_timedelta(full_2018_df['Time'])"
   ]
  },
  {
   "cell_type": "code",
   "execution_count": 17,
   "metadata": {},
   "outputs": [
    {
     "name": "stderr",
     "output_type": "stream",
     "text": [
      "C:\\Users\\dingw\\Anaconda3_new\\lib\\site-packages\\ipykernel_launcher.py:1: SettingWithCopyWarning: \n",
      "A value is trying to be set on a copy of a slice from a DataFrame.\n",
      "Try using .loc[row_indexer,col_indexer] = value instead\n",
      "\n",
      "See the caveats in the documentation: http://pandas.pydata.org/pandas-docs/stable/indexing.html#indexing-view-versus-copy\n",
      "  \"\"\"Entry point for launching an IPython kernel.\n"
     ]
    }
   ],
   "source": [
    "all_half_finishers_df['Time'] = pd.to_timedelta(all_half_finishers_df['Time'])"
   ]
  },
  {
   "cell_type": "markdown",
   "metadata": {},
   "source": [
    "# # Markdown: I don't know what's going on with this '99999' code- we don't really have a great way of validating the other observations. Obviously the really fast times (faster than the winners) are misplaced - but we also have some slow times coded 99999. \n",
    "\n",
    "# We also have some half-marathon times coded 99999. I'm gonna wait for some gossip on this one, and proceed with my coding efforts as if everything was clean. "
   ]
  },
  {
   "cell_type": "code",
   "execution_count": null,
   "metadata": {},
   "outputs": [],
   "source": []
  },
  {
   "cell_type": "code",
   "execution_count": null,
   "metadata": {},
   "outputs": [],
   "source": []
  },
  {
   "cell_type": "code",
   "execution_count": null,
   "metadata": {},
   "outputs": [],
   "source": []
  },
  {
   "cell_type": "markdown",
   "metadata": {},
   "source": [
    "# There's some misplaced data in our 'full' dataframe. We know that some of them are half marathon data - are all of them half marathon data?"
   ]
  },
  {
   "cell_type": "code",
   "execution_count": 18,
   "metadata": {},
   "outputs": [],
   "source": [
    "all_full_finishers_df_subgroup = all_full_finishers_df[all_full_finishers_df.Overall == 99999 ]"
   ]
  },
  {
   "cell_type": "code",
   "execution_count": 19,
   "metadata": {},
   "outputs": [],
   "source": [
    "all_half_finishers_df_subgroup = all_half_finishers_df[all_half_finishers_df.Overall == 99999 ]"
   ]
  },
  {
   "cell_type": "code",
   "execution_count": 20,
   "metadata": {
    "scrolled": true
   },
   "outputs": [
    {
     "data": {
      "text/plain": [
       "Richard Brooks         5\n",
       "Denise Sauriol         4\n",
       "Jonathan Lister        4\n",
       "Dallas Smith           4\n",
       "Angela Whitley         4\n",
       "Kelsey Otten           4\n",
       "Erik Stephan           4\n",
       "Melissa Boothe         4\n",
       "Carl Dunphy            4\n",
       "Dean Bowden            4\n",
       "Jane Tao               4\n",
       "Scott Wietecha         4\n",
       "Lauren Terrell         4\n",
       "Justin Milam           4\n",
       "Larry Epps             4\n",
       "Larry Phillips         4\n",
       "William Moore          4\n",
       "Luke Tuttle            4\n",
       "Tien Le                4\n",
       "Lauren Johnston        4\n",
       "James Smith            4\n",
       "Eddie Godwin           4\n",
       "Paul Bradbury          4\n",
       "Frank Sames            4\n",
       "Brian Wright           4\n",
       "Guido Hussels          4\n",
       "Amanda Staggs          4\n",
       "Deanna Alexander       4\n",
       "Alan Pettit            4\n",
       "Jason Lee              4\n",
       "                      ..\n",
       "Tanya Truszkowski      1\n",
       "Nicole Mancini         1\n",
       "Heini Tallent          1\n",
       "Takae Miller           1\n",
       "Katherine Pangburn     1\n",
       "Erin Welch             1\n",
       "Paul Geffken           1\n",
       "Candice Appleby        1\n",
       "Stella Christoforou    1\n",
       "Courtney Tutor         1\n",
       "Austin Hanika          1\n",
       "Marian Castroverde     1\n",
       "Mary Perrecone         1\n",
       "Sarah Clark            1\n",
       "Alicia Hartman         1\n",
       "Kaily Nakhoneinh       1\n",
       "Zack Graber            1\n",
       "Shannon Vogler         1\n",
       "Megan Gallagher        1\n",
       "Rebecca Sutich         1\n",
       "Alex Dunlap            1\n",
       "Samantha Tremmel       1\n",
       "Scott Davison          1\n",
       "Mia Esworthy           1\n",
       "Barrett Holder         1\n",
       "Connie Bush            1\n",
       "Charlotte Pelto        1\n",
       "Maya Gebhardt          1\n",
       "John Fuller            1\n",
       "David Bilyeu           1\n",
       "Name: Name, Length: 8890, dtype: int64"
      ]
     },
     "execution_count": 20,
     "metadata": {},
     "output_type": "execute_result"
    }
   ],
   "source": [
    "all_full_finishers_df.Name.value_counts()"
   ]
  },
  {
   "cell_type": "code",
   "execution_count": 21,
   "metadata": {},
   "outputs": [
    {
     "data": {
      "text/plain": [
       "count                      9705\n",
       "mean     0 days 04:48:27.211334\n",
       "std      0 days 00:45:46.974559\n",
       "min             0 days 01:26:11\n",
       "25%             0 days 04:15:30\n",
       "50%             0 days 04:49:04\n",
       "75%             0 days 05:22:04\n",
       "max             0 days 07:00:00\n",
       "Name: Time, dtype: object"
      ]
     },
     "execution_count": 21,
     "metadata": {},
     "output_type": "execute_result"
    }
   ],
   "source": [
    "all_full_finishers_df.Time.describe()"
   ]
  },
  {
   "cell_type": "code",
   "execution_count": 22,
   "metadata": {},
   "outputs": [
    {
     "data": {
      "text/html": [
       "<div>\n",
       "<style scoped>\n",
       "    .dataframe tbody tr th:only-of-type {\n",
       "        vertical-align: middle;\n",
       "    }\n",
       "\n",
       "    .dataframe tbody tr th {\n",
       "        vertical-align: top;\n",
       "    }\n",
       "\n",
       "    .dataframe thead th {\n",
       "        text-align: right;\n",
       "    }\n",
       "</style>\n",
       "<table border=\"1\" class=\"dataframe\">\n",
       "  <thead>\n",
       "    <tr style=\"text-align: right;\">\n",
       "      <th></th>\n",
       "      <th>Overall</th>\n",
       "      <th>Bib</th>\n",
       "      <th>Name</th>\n",
       "      <th>Time</th>\n",
       "      <th>Year</th>\n",
       "    </tr>\n",
       "  </thead>\n",
       "  <tbody>\n",
       "    <tr>\n",
       "      <th>18947</th>\n",
       "      <td>99999</td>\n",
       "      <td>25610</td>\n",
       "      <td>Amy Saffell</td>\n",
       "      <td>02:42:13</td>\n",
       "      <td>2016</td>\n",
       "    </tr>\n",
       "    <tr>\n",
       "      <th>19295</th>\n",
       "      <td>99999</td>\n",
       "      <td>37147</td>\n",
       "      <td>Nancy Armstrong</td>\n",
       "      <td>02:11:31</td>\n",
       "      <td>2016</td>\n",
       "    </tr>\n",
       "    <tr>\n",
       "      <th>20651</th>\n",
       "      <td>99999</td>\n",
       "      <td>28465</td>\n",
       "      <td>Vickey Boston</td>\n",
       "      <td>01:41:13</td>\n",
       "      <td>2016</td>\n",
       "    </tr>\n",
       "    <tr>\n",
       "      <th>18300</th>\n",
       "      <td>99999</td>\n",
       "      <td>32405</td>\n",
       "      <td>Melissa Peplow</td>\n",
       "      <td>02:53:08</td>\n",
       "      <td>2017</td>\n",
       "    </tr>\n",
       "    <tr>\n",
       "      <th>19191</th>\n",
       "      <td>99999</td>\n",
       "      <td>33482</td>\n",
       "      <td>Mark Whitlock</td>\n",
       "      <td>03:03:11</td>\n",
       "      <td>2017</td>\n",
       "    </tr>\n",
       "    <tr>\n",
       "      <th>19371</th>\n",
       "      <td>99999</td>\n",
       "      <td>7456</td>\n",
       "      <td>Todd Walter</td>\n",
       "      <td>02:10:30</td>\n",
       "      <td>2017</td>\n",
       "    </tr>\n",
       "    <tr>\n",
       "      <th>19396</th>\n",
       "      <td>99999</td>\n",
       "      <td>35109</td>\n",
       "      <td>Sara Moreland</td>\n",
       "      <td>02:44:23</td>\n",
       "      <td>2017</td>\n",
       "    </tr>\n",
       "    <tr>\n",
       "      <th>20200</th>\n",
       "      <td>99999</td>\n",
       "      <td>20613</td>\n",
       "      <td>Brian Thompson</td>\n",
       "      <td>03:36:21</td>\n",
       "      <td>2017</td>\n",
       "    </tr>\n",
       "    <tr>\n",
       "      <th>20284</th>\n",
       "      <td>99999</td>\n",
       "      <td>26542</td>\n",
       "      <td>Amy Saffell</td>\n",
       "      <td>02:45:15</td>\n",
       "      <td>2017</td>\n",
       "    </tr>\n",
       "    <tr>\n",
       "      <th>20471</th>\n",
       "      <td>99999</td>\n",
       "      <td>31611</td>\n",
       "      <td>Sara Solomon</td>\n",
       "      <td>02:32:39</td>\n",
       "      <td>2017</td>\n",
       "    </tr>\n",
       "    <tr>\n",
       "      <th>21020</th>\n",
       "      <td>99999</td>\n",
       "      <td>31335</td>\n",
       "      <td>Bob Upton</td>\n",
       "      <td>01:40:24</td>\n",
       "      <td>2017</td>\n",
       "    </tr>\n",
       "    <tr>\n",
       "      <th>21204</th>\n",
       "      <td>99999</td>\n",
       "      <td>23082</td>\n",
       "      <td>Dong Phan</td>\n",
       "      <td>01:27:06</td>\n",
       "      <td>2017</td>\n",
       "    </tr>\n",
       "    <tr>\n",
       "      <th>21355</th>\n",
       "      <td>99999</td>\n",
       "      <td>25676</td>\n",
       "      <td>Shannon Hepp</td>\n",
       "      <td>02:45:05</td>\n",
       "      <td>2017</td>\n",
       "    </tr>\n",
       "    <tr>\n",
       "      <th>21358</th>\n",
       "      <td>99999</td>\n",
       "      <td>25674</td>\n",
       "      <td>Kimberly Emert</td>\n",
       "      <td>02:45:06</td>\n",
       "      <td>2017</td>\n",
       "    </tr>\n",
       "    <tr>\n",
       "      <th>21365</th>\n",
       "      <td>99999</td>\n",
       "      <td>5316</td>\n",
       "      <td>Emily Desalvatore</td>\n",
       "      <td>02:18:08</td>\n",
       "      <td>2017</td>\n",
       "    </tr>\n",
       "    <tr>\n",
       "      <th>22056</th>\n",
       "      <td>99999</td>\n",
       "      <td>38365</td>\n",
       "      <td>Tung Phan</td>\n",
       "      <td>01:40:19</td>\n",
       "      <td>2017</td>\n",
       "    </tr>\n",
       "  </tbody>\n",
       "</table>\n",
       "</div>"
      ],
      "text/plain": [
       "       Overall    Bib               Name     Time  Year\n",
       "18947    99999  25610        Amy Saffell 02:42:13  2016\n",
       "19295    99999  37147    Nancy Armstrong 02:11:31  2016\n",
       "20651    99999  28465      Vickey Boston 01:41:13  2016\n",
       "18300    99999  32405     Melissa Peplow 02:53:08  2017\n",
       "19191    99999  33482      Mark Whitlock 03:03:11  2017\n",
       "19371    99999   7456        Todd Walter 02:10:30  2017\n",
       "19396    99999  35109      Sara Moreland 02:44:23  2017\n",
       "20200    99999  20613     Brian Thompson 03:36:21  2017\n",
       "20284    99999  26542        Amy Saffell 02:45:15  2017\n",
       "20471    99999  31611       Sara Solomon 02:32:39  2017\n",
       "21020    99999  31335          Bob Upton 01:40:24  2017\n",
       "21204    99999  23082          Dong Phan 01:27:06  2017\n",
       "21355    99999  25676       Shannon Hepp 02:45:05  2017\n",
       "21358    99999  25674     Kimberly Emert 02:45:06  2017\n",
       "21365    99999   5316  Emily Desalvatore 02:18:08  2017\n",
       "22056    99999  38365          Tung Phan 01:40:19  2017"
      ]
     },
     "execution_count": 22,
     "metadata": {},
     "output_type": "execute_result"
    }
   ],
   "source": [
    "all_half_finishers_df_subgroup.head(16)"
   ]
  },
  {
   "cell_type": "code",
   "execution_count": 23,
   "metadata": {},
   "outputs": [
    {
     "data": {
      "text/plain": [
       "count                        16\n",
       "mean            0 days 02:26:02\n",
       "std      0 days 00:35:33.481880\n",
       "min             0 days 01:27:06\n",
       "25%      0 days 02:03:10.750000\n",
       "50%             0 days 02:37:26\n",
       "75%      0 days 02:45:08.250000\n",
       "max             0 days 03:36:21\n",
       "Name: Time, dtype: object"
      ]
     },
     "execution_count": 23,
     "metadata": {},
     "output_type": "execute_result"
    }
   ],
   "source": [
    "all_half_finishers_df_subgroup.Time.describe()"
   ]
  },
  {
   "cell_type": "code",
   "execution_count": 24,
   "metadata": {},
   "outputs": [
    {
     "data": {
      "text/html": [
       "<div>\n",
       "<style scoped>\n",
       "    .dataframe tbody tr th:only-of-type {\n",
       "        vertical-align: middle;\n",
       "    }\n",
       "\n",
       "    .dataframe tbody tr th {\n",
       "        vertical-align: top;\n",
       "    }\n",
       "\n",
       "    .dataframe thead th {\n",
       "        text-align: right;\n",
       "    }\n",
       "</style>\n",
       "<table border=\"1\" class=\"dataframe\">\n",
       "  <thead>\n",
       "    <tr style=\"text-align: right;\">\n",
       "      <th></th>\n",
       "      <th>Overall</th>\n",
       "      <th>Bib</th>\n",
       "      <th>Name</th>\n",
       "      <th>Time</th>\n",
       "      <th>Year</th>\n",
       "    </tr>\n",
       "  </thead>\n",
       "  <tbody>\n",
       "    <tr>\n",
       "      <th>3275</th>\n",
       "      <td>99999</td>\n",
       "      <td>27024</td>\n",
       "      <td>James Cook</td>\n",
       "      <td>01:26:11</td>\n",
       "      <td>2017</td>\n",
       "    </tr>\n",
       "    <tr>\n",
       "      <th>0</th>\n",
       "      <td>1</td>\n",
       "      <td>30001</td>\n",
       "      <td>Travis Peruski</td>\n",
       "      <td>01:37:54</td>\n",
       "      <td>2019</td>\n",
       "    </tr>\n",
       "    <tr>\n",
       "      <th>2469</th>\n",
       "      <td>99999</td>\n",
       "      <td>1202</td>\n",
       "      <td>Andre Mcdonald</td>\n",
       "      <td>02:08:22</td>\n",
       "      <td>2017</td>\n",
       "    </tr>\n",
       "    <tr>\n",
       "      <th>2811</th>\n",
       "      <td>99999</td>\n",
       "      <td>15476</td>\n",
       "      <td>Ashley Grindstaff</td>\n",
       "      <td>02:19:14</td>\n",
       "      <td>2017</td>\n",
       "    </tr>\n",
       "    <tr>\n",
       "      <th>3362</th>\n",
       "      <td>99999</td>\n",
       "      <td>1163</td>\n",
       "      <td>Reon Holloway</td>\n",
       "      <td>02:22:41</td>\n",
       "      <td>2017</td>\n",
       "    </tr>\n",
       "    <tr>\n",
       "      <th>3359</th>\n",
       "      <td>99999</td>\n",
       "      <td>4109</td>\n",
       "      <td>Bruce Kesselring</td>\n",
       "      <td>02:24:09</td>\n",
       "      <td>2016</td>\n",
       "    </tr>\n",
       "    <tr>\n",
       "      <th>2678</th>\n",
       "      <td>99999</td>\n",
       "      <td>2104</td>\n",
       "      <td>George Spilich</td>\n",
       "      <td>02:24:21</td>\n",
       "      <td>2017</td>\n",
       "    </tr>\n",
       "    <tr>\n",
       "      <th>2593</th>\n",
       "      <td>99999</td>\n",
       "      <td>15071</td>\n",
       "      <td>Kenneth Moffat</td>\n",
       "      <td>02:25:00</td>\n",
       "      <td>2017</td>\n",
       "    </tr>\n",
       "    <tr>\n",
       "      <th>0</th>\n",
       "      <td>1</td>\n",
       "      <td>1</td>\n",
       "      <td>Scott Wietecha</td>\n",
       "      <td>02:25:42</td>\n",
       "      <td>2016</td>\n",
       "    </tr>\n",
       "    <tr>\n",
       "      <th>0</th>\n",
       "      <td>1</td>\n",
       "      <td>1</td>\n",
       "      <td>Scott Wietecha</td>\n",
       "      <td>02:28:16</td>\n",
       "      <td>2018</td>\n",
       "    </tr>\n",
       "    <tr>\n",
       "      <th>1</th>\n",
       "      <td>2</td>\n",
       "      <td>3</td>\n",
       "      <td>Garang Madut</td>\n",
       "      <td>02:29:52</td>\n",
       "      <td>2018</td>\n",
       "    </tr>\n",
       "    <tr>\n",
       "      <th>3523</th>\n",
       "      <td>99999</td>\n",
       "      <td>1167</td>\n",
       "      <td>Jereme Wilroy</td>\n",
       "      <td>02:31:30</td>\n",
       "      <td>2016</td>\n",
       "    </tr>\n",
       "    <tr>\n",
       "      <th>1</th>\n",
       "      <td>2</td>\n",
       "      <td>3</td>\n",
       "      <td>Brian Shelton</td>\n",
       "      <td>02:34:43</td>\n",
       "      <td>2016</td>\n",
       "    </tr>\n",
       "    <tr>\n",
       "      <th>1</th>\n",
       "      <td>2</td>\n",
       "      <td>1</td>\n",
       "      <td>Scott Wietecha</td>\n",
       "      <td>02:34:59</td>\n",
       "      <td>2019</td>\n",
       "    </tr>\n",
       "    <tr>\n",
       "      <th>2</th>\n",
       "      <td>3</td>\n",
       "      <td>4</td>\n",
       "      <td>Jordan Wilson</td>\n",
       "      <td>02:35:24</td>\n",
       "      <td>2019</td>\n",
       "    </tr>\n",
       "    <tr>\n",
       "      <th>3206</th>\n",
       "      <td>99999</td>\n",
       "      <td>4009</td>\n",
       "      <td>Greg Moser</td>\n",
       "      <td>02:37:21</td>\n",
       "      <td>2017</td>\n",
       "    </tr>\n",
       "    <tr>\n",
       "      <th>3068</th>\n",
       "      <td>99999</td>\n",
       "      <td>7104</td>\n",
       "      <td>Ray Schommer</td>\n",
       "      <td>02:37:56</td>\n",
       "      <td>2016</td>\n",
       "    </tr>\n",
       "    <tr>\n",
       "      <th>2</th>\n",
       "      <td>3</td>\n",
       "      <td>1047</td>\n",
       "      <td>Christopher Capps</td>\n",
       "      <td>02:38:43</td>\n",
       "      <td>2016</td>\n",
       "    </tr>\n",
       "    <tr>\n",
       "      <th>2</th>\n",
       "      <td>3</td>\n",
       "      <td>33442</td>\n",
       "      <td>Kevin Fink</td>\n",
       "      <td>02:38:59</td>\n",
       "      <td>2018</td>\n",
       "    </tr>\n",
       "    <tr>\n",
       "      <th>3</th>\n",
       "      <td>4</td>\n",
       "      <td>30034</td>\n",
       "      <td>Steelton Flynn</td>\n",
       "      <td>02:39:59</td>\n",
       "      <td>2019</td>\n",
       "    </tr>\n",
       "    <tr>\n",
       "      <th>0</th>\n",
       "      <td>1</td>\n",
       "      <td>1</td>\n",
       "      <td>Scott Wietecha</td>\n",
       "      <td>02:40:25</td>\n",
       "      <td>2017</td>\n",
       "    </tr>\n",
       "    <tr>\n",
       "      <th>3324</th>\n",
       "      <td>99999</td>\n",
       "      <td>10035</td>\n",
       "      <td>Michael Juettner</td>\n",
       "      <td>02:41:54</td>\n",
       "      <td>2017</td>\n",
       "    </tr>\n",
       "    <tr>\n",
       "      <th>4</th>\n",
       "      <td>5</td>\n",
       "      <td>30035</td>\n",
       "      <td>Thomas Ellis</td>\n",
       "      <td>02:42:09</td>\n",
       "      <td>2019</td>\n",
       "    </tr>\n",
       "    <tr>\n",
       "      <th>3</th>\n",
       "      <td>4</td>\n",
       "      <td>33441</td>\n",
       "      <td>Andrew Hodges</td>\n",
       "      <td>02:43:59</td>\n",
       "      <td>2018</td>\n",
       "    </tr>\n",
       "    <tr>\n",
       "      <th>3</th>\n",
       "      <td>4</td>\n",
       "      <td>1052</td>\n",
       "      <td>Jason Grimes</td>\n",
       "      <td>02:45:06</td>\n",
       "      <td>2016</td>\n",
       "    </tr>\n",
       "    <tr>\n",
       "      <th>3709</th>\n",
       "      <td>99999</td>\n",
       "      <td>2474</td>\n",
       "      <td>Hadley Miller</td>\n",
       "      <td>02:46:53</td>\n",
       "      <td>2016</td>\n",
       "    </tr>\n",
       "    <tr>\n",
       "      <th>4</th>\n",
       "      <td>5</td>\n",
       "      <td>1046</td>\n",
       "      <td>David Adams</td>\n",
       "      <td>02:47:28</td>\n",
       "      <td>2016</td>\n",
       "    </tr>\n",
       "    <tr>\n",
       "      <th>5</th>\n",
       "      <td>6</td>\n",
       "      <td>1049</td>\n",
       "      <td>Matthew Meinema</td>\n",
       "      <td>02:47:36</td>\n",
       "      <td>2016</td>\n",
       "    </tr>\n",
       "    <tr>\n",
       "      <th>3498</th>\n",
       "      <td>99999</td>\n",
       "      <td>1082</td>\n",
       "      <td>Augustus Raymond</td>\n",
       "      <td>02:47:43</td>\n",
       "      <td>2016</td>\n",
       "    </tr>\n",
       "    <tr>\n",
       "      <th>4</th>\n",
       "      <td>5</td>\n",
       "      <td>30028</td>\n",
       "      <td>Nicholas Aubert</td>\n",
       "      <td>02:48:11</td>\n",
       "      <td>2018</td>\n",
       "    </tr>\n",
       "    <tr>\n",
       "      <th>...</th>\n",
       "      <td>...</td>\n",
       "      <td>...</td>\n",
       "      <td>...</td>\n",
       "      <td>...</td>\n",
       "      <td>...</td>\n",
       "    </tr>\n",
       "    <tr>\n",
       "      <th>2936</th>\n",
       "      <td>2945</td>\n",
       "      <td>18064</td>\n",
       "      <td>Rajeev Sahni</td>\n",
       "      <td>06:35:35</td>\n",
       "      <td>2016</td>\n",
       "    </tr>\n",
       "    <tr>\n",
       "      <th>2022</th>\n",
       "      <td>2023</td>\n",
       "      <td>32980</td>\n",
       "      <td>Daniel Albert</td>\n",
       "      <td>06:35:52</td>\n",
       "      <td>2019</td>\n",
       "    </tr>\n",
       "    <tr>\n",
       "      <th>2023</th>\n",
       "      <td>2024</td>\n",
       "      <td>30113</td>\n",
       "      <td>Jacqueline Spires</td>\n",
       "      <td>06:36:58</td>\n",
       "      <td>2019</td>\n",
       "    </tr>\n",
       "    <tr>\n",
       "      <th>2937</th>\n",
       "      <td>2947</td>\n",
       "      <td>27121</td>\n",
       "      <td>Nicholas D'Agostino</td>\n",
       "      <td>06:37:02</td>\n",
       "      <td>2016</td>\n",
       "    </tr>\n",
       "    <tr>\n",
       "      <th>2938</th>\n",
       "      <td>2948</td>\n",
       "      <td>23019</td>\n",
       "      <td>Julie Seeley</td>\n",
       "      <td>06:37:34</td>\n",
       "      <td>2016</td>\n",
       "    </tr>\n",
       "    <tr>\n",
       "      <th>2100</th>\n",
       "      <td>2101</td>\n",
       "      <td>33717</td>\n",
       "      <td>Dallas Heyden</td>\n",
       "      <td>06:37:34</td>\n",
       "      <td>2018</td>\n",
       "    </tr>\n",
       "    <tr>\n",
       "      <th>2939</th>\n",
       "      <td>2949</td>\n",
       "      <td>7264</td>\n",
       "      <td>Holly Frank</td>\n",
       "      <td>06:37:39</td>\n",
       "      <td>2016</td>\n",
       "    </tr>\n",
       "    <tr>\n",
       "      <th>2940</th>\n",
       "      <td>2950</td>\n",
       "      <td>26124</td>\n",
       "      <td>Taylor Diane</td>\n",
       "      <td>06:37:47</td>\n",
       "      <td>2016</td>\n",
       "    </tr>\n",
       "    <tr>\n",
       "      <th>2464</th>\n",
       "      <td>2465</td>\n",
       "      <td>429</td>\n",
       "      <td>Dan Albert</td>\n",
       "      <td>06:38:15</td>\n",
       "      <td>2017</td>\n",
       "    </tr>\n",
       "    <tr>\n",
       "      <th>2465</th>\n",
       "      <td>2466</td>\n",
       "      <td>440</td>\n",
       "      <td>Daniel Albert</td>\n",
       "      <td>06:38:19</td>\n",
       "      <td>2017</td>\n",
       "    </tr>\n",
       "    <tr>\n",
       "      <th>2101</th>\n",
       "      <td>2102</td>\n",
       "      <td>32440</td>\n",
       "      <td>Marlin Hardin</td>\n",
       "      <td>06:39:04</td>\n",
       "      <td>2018</td>\n",
       "    </tr>\n",
       "    <tr>\n",
       "      <th>2941</th>\n",
       "      <td>2951</td>\n",
       "      <td>7241</td>\n",
       "      <td>Amber Hampton</td>\n",
       "      <td>06:40:18</td>\n",
       "      <td>2016</td>\n",
       "    </tr>\n",
       "    <tr>\n",
       "      <th>2942</th>\n",
       "      <td>2952</td>\n",
       "      <td>27399</td>\n",
       "      <td>Tiffanie Hopkin</td>\n",
       "      <td>06:41:30</td>\n",
       "      <td>2016</td>\n",
       "    </tr>\n",
       "    <tr>\n",
       "      <th>2943</th>\n",
       "      <td>2953</td>\n",
       "      <td>27308</td>\n",
       "      <td>Lacey Spears</td>\n",
       "      <td>06:42:22</td>\n",
       "      <td>2016</td>\n",
       "    </tr>\n",
       "    <tr>\n",
       "      <th>2944</th>\n",
       "      <td>2954</td>\n",
       "      <td>26010</td>\n",
       "      <td>Charlotte Pelto</td>\n",
       "      <td>06:43:39</td>\n",
       "      <td>2016</td>\n",
       "    </tr>\n",
       "    <tr>\n",
       "      <th>2024</th>\n",
       "      <td>2025</td>\n",
       "      <td>30026</td>\n",
       "      <td>Alex Easley</td>\n",
       "      <td>06:43:55</td>\n",
       "      <td>2019</td>\n",
       "    </tr>\n",
       "    <tr>\n",
       "      <th>2945</th>\n",
       "      <td>2955</td>\n",
       "      <td>26250</td>\n",
       "      <td>Molly Rogers</td>\n",
       "      <td>06:44:01</td>\n",
       "      <td>2016</td>\n",
       "    </tr>\n",
       "    <tr>\n",
       "      <th>2946</th>\n",
       "      <td>2956</td>\n",
       "      <td>27374</td>\n",
       "      <td>Lynn Gillespie-Chater</td>\n",
       "      <td>06:44:43</td>\n",
       "      <td>2016</td>\n",
       "    </tr>\n",
       "    <tr>\n",
       "      <th>2102</th>\n",
       "      <td>2103</td>\n",
       "      <td>535</td>\n",
       "      <td>Jane Tao</td>\n",
       "      <td>06:49:26</td>\n",
       "      <td>2018</td>\n",
       "    </tr>\n",
       "    <tr>\n",
       "      <th>3824</th>\n",
       "      <td>99999</td>\n",
       "      <td>27141</td>\n",
       "      <td>Jessica Scott</td>\n",
       "      <td>06:49:41</td>\n",
       "      <td>2016</td>\n",
       "    </tr>\n",
       "    <tr>\n",
       "      <th>2103</th>\n",
       "      <td>2104</td>\n",
       "      <td>529</td>\n",
       "      <td>Mike Emerick</td>\n",
       "      <td>06:51:23</td>\n",
       "      <td>2018</td>\n",
       "    </tr>\n",
       "    <tr>\n",
       "      <th>2947</th>\n",
       "      <td>2957</td>\n",
       "      <td>435</td>\n",
       "      <td>Jane Tao</td>\n",
       "      <td>06:51:54</td>\n",
       "      <td>2016</td>\n",
       "    </tr>\n",
       "    <tr>\n",
       "      <th>2104</th>\n",
       "      <td>2105</td>\n",
       "      <td>60042</td>\n",
       "      <td>Contact Sportstats</td>\n",
       "      <td>06:51:55</td>\n",
       "      <td>2018</td>\n",
       "    </tr>\n",
       "    <tr>\n",
       "      <th>2105</th>\n",
       "      <td>2106</td>\n",
       "      <td>33359</td>\n",
       "      <td>Theresa Khayyam</td>\n",
       "      <td>06:51:56</td>\n",
       "      <td>2018</td>\n",
       "    </tr>\n",
       "    <tr>\n",
       "      <th>3289</th>\n",
       "      <td>99999</td>\n",
       "      <td>27081</td>\n",
       "      <td>Annaka Silver</td>\n",
       "      <td>06:52:46</td>\n",
       "      <td>2016</td>\n",
       "    </tr>\n",
       "    <tr>\n",
       "      <th>2948</th>\n",
       "      <td>2958</td>\n",
       "      <td>27210</td>\n",
       "      <td>Kate Mishkin</td>\n",
       "      <td>06:53:03</td>\n",
       "      <td>2016</td>\n",
       "    </tr>\n",
       "    <tr>\n",
       "      <th>2949</th>\n",
       "      <td>2959</td>\n",
       "      <td>27443</td>\n",
       "      <td>Gabrielle Castro</td>\n",
       "      <td>06:53:35</td>\n",
       "      <td>2016</td>\n",
       "    </tr>\n",
       "    <tr>\n",
       "      <th>2950</th>\n",
       "      <td>2960</td>\n",
       "      <td>13085</td>\n",
       "      <td>Valerie Bailey</td>\n",
       "      <td>06:53:58</td>\n",
       "      <td>2016</td>\n",
       "    </tr>\n",
       "    <tr>\n",
       "      <th>2106</th>\n",
       "      <td>2107</td>\n",
       "      <td>30018</td>\n",
       "      <td>Harold Martin</td>\n",
       "      <td>06:54:09</td>\n",
       "      <td>2018</td>\n",
       "    </tr>\n",
       "    <tr>\n",
       "      <th>2951</th>\n",
       "      <td>2961</td>\n",
       "      <td>442</td>\n",
       "      <td>Mike Emerick</td>\n",
       "      <td>07:00:00</td>\n",
       "      <td>2016</td>\n",
       "    </tr>\n",
       "  </tbody>\n",
       "</table>\n",
       "<p>9705 rows × 5 columns</p>\n",
       "</div>"
      ],
      "text/plain": [
       "      Overall    Bib                   Name     Time  Year\n",
       "3275    99999  27024             James Cook 01:26:11  2017\n",
       "0           1  30001         Travis Peruski 01:37:54  2019\n",
       "2469    99999   1202         Andre Mcdonald 02:08:22  2017\n",
       "2811    99999  15476      Ashley Grindstaff 02:19:14  2017\n",
       "3362    99999   1163          Reon Holloway 02:22:41  2017\n",
       "3359    99999   4109       Bruce Kesselring 02:24:09  2016\n",
       "2678    99999   2104         George Spilich 02:24:21  2017\n",
       "2593    99999  15071         Kenneth Moffat 02:25:00  2017\n",
       "0           1      1         Scott Wietecha 02:25:42  2016\n",
       "0           1      1         Scott Wietecha 02:28:16  2018\n",
       "1           2      3           Garang Madut 02:29:52  2018\n",
       "3523    99999   1167          Jereme Wilroy 02:31:30  2016\n",
       "1           2      3          Brian Shelton 02:34:43  2016\n",
       "1           2      1         Scott Wietecha 02:34:59  2019\n",
       "2           3      4          Jordan Wilson 02:35:24  2019\n",
       "3206    99999   4009             Greg Moser 02:37:21  2017\n",
       "3068    99999   7104           Ray Schommer 02:37:56  2016\n",
       "2           3   1047      Christopher Capps 02:38:43  2016\n",
       "2           3  33442             Kevin Fink 02:38:59  2018\n",
       "3           4  30034         Steelton Flynn 02:39:59  2019\n",
       "0           1      1         Scott Wietecha 02:40:25  2017\n",
       "3324    99999  10035       Michael Juettner 02:41:54  2017\n",
       "4           5  30035           Thomas Ellis 02:42:09  2019\n",
       "3           4  33441          Andrew Hodges 02:43:59  2018\n",
       "3           4   1052           Jason Grimes 02:45:06  2016\n",
       "3709    99999   2474          Hadley Miller 02:46:53  2016\n",
       "4           5   1046            David Adams 02:47:28  2016\n",
       "5           6   1049        Matthew Meinema 02:47:36  2016\n",
       "3498    99999   1082       Augustus Raymond 02:47:43  2016\n",
       "4           5  30028        Nicholas Aubert 02:48:11  2018\n",
       "...       ...    ...                    ...      ...   ...\n",
       "2936     2945  18064           Rajeev Sahni 06:35:35  2016\n",
       "2022     2023  32980          Daniel Albert 06:35:52  2019\n",
       "2023     2024  30113      Jacqueline Spires 06:36:58  2019\n",
       "2937     2947  27121    Nicholas D'Agostino 06:37:02  2016\n",
       "2938     2948  23019           Julie Seeley 06:37:34  2016\n",
       "2100     2101  33717          Dallas Heyden 06:37:34  2018\n",
       "2939     2949   7264            Holly Frank 06:37:39  2016\n",
       "2940     2950  26124           Taylor Diane 06:37:47  2016\n",
       "2464     2465    429             Dan Albert 06:38:15  2017\n",
       "2465     2466    440          Daniel Albert 06:38:19  2017\n",
       "2101     2102  32440          Marlin Hardin 06:39:04  2018\n",
       "2941     2951   7241          Amber Hampton 06:40:18  2016\n",
       "2942     2952  27399        Tiffanie Hopkin 06:41:30  2016\n",
       "2943     2953  27308           Lacey Spears 06:42:22  2016\n",
       "2944     2954  26010        Charlotte Pelto 06:43:39  2016\n",
       "2024     2025  30026            Alex Easley 06:43:55  2019\n",
       "2945     2955  26250           Molly Rogers 06:44:01  2016\n",
       "2946     2956  27374  Lynn Gillespie-Chater 06:44:43  2016\n",
       "2102     2103    535               Jane Tao 06:49:26  2018\n",
       "3824    99999  27141          Jessica Scott 06:49:41  2016\n",
       "2103     2104    529           Mike Emerick 06:51:23  2018\n",
       "2947     2957    435               Jane Tao 06:51:54  2016\n",
       "2104     2105  60042     Contact Sportstats 06:51:55  2018\n",
       "2105     2106  33359        Theresa Khayyam 06:51:56  2018\n",
       "3289    99999  27081          Annaka Silver 06:52:46  2016\n",
       "2948     2958  27210           Kate Mishkin 06:53:03  2016\n",
       "2949     2959  27443       Gabrielle Castro 06:53:35  2016\n",
       "2950     2960  13085         Valerie Bailey 06:53:58  2016\n",
       "2106     2107  30018          Harold Martin 06:54:09  2018\n",
       "2951     2961    442           Mike Emerick 07:00:00  2016\n",
       "\n",
       "[9705 rows x 5 columns]"
      ]
     },
     "execution_count": 24,
     "metadata": {},
     "output_type": "execute_result"
    }
   ],
   "source": [
    "all_full_finishers_df.sort_values(by=['Time'])"
   ]
  },
  {
   "cell_type": "code",
   "execution_count": 25,
   "metadata": {},
   "outputs": [
    {
     "data": {
      "text/plain": [
       "2017    129\n",
       "2016     26\n",
       "Name: Year, dtype: int64"
      ]
     },
     "execution_count": 25,
     "metadata": {},
     "output_type": "execute_result"
    }
   ],
   "source": [
    "all_full_finishers_df_subgroup.Year.value_counts()"
   ]
  },
  {
   "cell_type": "markdown",
   "metadata": {},
   "source": [
    "# Current DQ issues: we have times faster than Scott in 2016, 2017 and 2019. I'll do all of my single-marathon experimentation with the 2018 marathon for now, since there are no abnormally fast finishes. \n",
    "\n",
    "# It also might be fine to use all of the half-marathon finishers as well, since there are no immediately obvious DQ issues. "
   ]
  },
  {
   "cell_type": "markdown",
   "metadata": {},
   "source": [
    "## Let's try doing a timediff variable for the 2018 full marathon"
   ]
  },
  {
   "cell_type": "code",
   "execution_count": 26,
   "metadata": {},
   "outputs": [
    {
     "data": {
      "text/plain": [
       "Overall                int64\n",
       "Bib                    int64\n",
       "Name                  object\n",
       "Time                  object\n",
       "Year                   int64\n",
       "TimeDelta    timedelta64[ns]\n",
       "dtype: object"
      ]
     },
     "execution_count": 26,
     "metadata": {},
     "output_type": "execute_result"
    }
   ],
   "source": [
    "full_2018_df.dtypes"
   ]
  },
  {
   "cell_type": "code",
   "execution_count": 27,
   "metadata": {},
   "outputs": [],
   "source": [
    "time_diff = full_2018_df.TimeDelta.diff()"
   ]
  },
  {
   "cell_type": "code",
   "execution_count": 28,
   "metadata": {},
   "outputs": [],
   "source": [
    "time_diff_stringB = full_2018_df.TimeDelta.diff().astype(str)"
   ]
  },
  {
   "cell_type": "code",
   "execution_count": 29,
   "metadata": {},
   "outputs": [],
   "source": [
    "time_diff_stringB=pd.DataFrame(time_diff_stringB)"
   ]
  },
  {
   "cell_type": "code",
   "execution_count": 30,
   "metadata": {},
   "outputs": [],
   "source": [
    "time_diff=pd.DataFrame(time_diff)"
   ]
  },
  {
   "cell_type": "code",
   "execution_count": 31,
   "metadata": {},
   "outputs": [],
   "source": [
    "full_2018_df['time_diff']=time_diff"
   ]
  },
  {
   "cell_type": "code",
   "execution_count": 32,
   "metadata": {},
   "outputs": [],
   "source": [
    "full_2018_df['time_diff_stringB']=time_diff_stringB"
   ]
  },
  {
   "cell_type": "code",
   "execution_count": null,
   "metadata": {},
   "outputs": [],
   "source": []
  },
  {
   "cell_type": "code",
   "execution_count": 33,
   "metadata": {},
   "outputs": [],
   "source": [
    "full_2018_df['Hours'] = full_2018_df.Time.str[0:2].astype(float)"
   ]
  },
  {
   "cell_type": "code",
   "execution_count": 34,
   "metadata": {},
   "outputs": [],
   "source": [
    "full_2018_df['Minutes'] = full_2018_df.Time.str[3:5].astype(float)"
   ]
  },
  {
   "cell_type": "code",
   "execution_count": 35,
   "metadata": {},
   "outputs": [],
   "source": [
    "full_2018_df['Seconds'] = full_2018_df.Time.str[6:8].astype(float)"
   ]
  },
  {
   "cell_type": "code",
   "execution_count": 36,
   "metadata": {},
   "outputs": [],
   "source": [
    "full_2018_df['Number_Of_Minutes'] = ((full_2018_df.Hours * 60)) + ((full_2018_df.Minutes)) + ((full_2018_df.Seconds)/(60))"
   ]
  },
  {
   "cell_type": "code",
   "execution_count": null,
   "metadata": {},
   "outputs": [],
   "source": []
  },
  {
   "cell_type": "code",
   "execution_count": null,
   "metadata": {},
   "outputs": [],
   "source": []
  },
  {
   "cell_type": "code",
   "execution_count": 37,
   "metadata": {},
   "outputs": [
    {
     "data": {
      "text/plain": [
       "Overall                        int64\n",
       "Bib                            int64\n",
       "Name                          object\n",
       "Time                          object\n",
       "Year                           int64\n",
       "TimeDelta            timedelta64[ns]\n",
       "time_diff            timedelta64[ns]\n",
       "time_diff_stringB             object\n",
       "Hours                        float64\n",
       "Minutes                      float64\n",
       "Seconds                      float64\n",
       "Number_Of_Minutes            float64\n",
       "dtype: object"
      ]
     },
     "execution_count": 37,
     "metadata": {},
     "output_type": "execute_result"
    }
   ],
   "source": [
    "full_2018_df.dtypes"
   ]
  },
  {
   "cell_type": "code",
   "execution_count": 51,
   "metadata": {},
   "outputs": [
    {
     "data": {
      "text/html": [
       "<div>\n",
       "<style scoped>\n",
       "    .dataframe tbody tr th:only-of-type {\n",
       "        vertical-align: middle;\n",
       "    }\n",
       "\n",
       "    .dataframe tbody tr th {\n",
       "        vertical-align: top;\n",
       "    }\n",
       "\n",
       "    .dataframe thead th {\n",
       "        text-align: right;\n",
       "    }\n",
       "</style>\n",
       "<table border=\"1\" class=\"dataframe\">\n",
       "  <thead>\n",
       "    <tr style=\"text-align: right;\">\n",
       "      <th></th>\n",
       "      <th>Overall</th>\n",
       "      <th>Bib</th>\n",
       "      <th>Name</th>\n",
       "      <th>Time</th>\n",
       "      <th>Year</th>\n",
       "      <th>TimeDelta</th>\n",
       "      <th>time_diff</th>\n",
       "      <th>time_diff_stringB</th>\n",
       "      <th>Hours</th>\n",
       "      <th>Minutes</th>\n",
       "      <th>Seconds</th>\n",
       "      <th>Number_Of_Minutes</th>\n",
       "    </tr>\n",
       "  </thead>\n",
       "  <tbody>\n",
       "    <tr>\n",
       "      <th>2110</th>\n",
       "      <td>99999</td>\n",
       "      <td>31683</td>\n",
       "      <td>Aubrey Spaeth</td>\n",
       "      <td>00:00:00</td>\n",
       "      <td>2018</td>\n",
       "      <td>0 days</td>\n",
       "      <td>0 days 00:00:00</td>\n",
       "      <td>0 days 00:00:00.000000000</td>\n",
       "      <td>0.0</td>\n",
       "      <td>0.0</td>\n",
       "      <td>0.0</td>\n",
       "      <td>0.0</td>\n",
       "    </tr>\n",
       "    <tr>\n",
       "      <th>2111</th>\n",
       "      <td>99999</td>\n",
       "      <td>33654</td>\n",
       "      <td>Jeffrey Ekkart</td>\n",
       "      <td>00:00:00</td>\n",
       "      <td>2018</td>\n",
       "      <td>0 days</td>\n",
       "      <td>0 days 00:00:00</td>\n",
       "      <td>0 days 00:00:00.000000000</td>\n",
       "      <td>0.0</td>\n",
       "      <td>0.0</td>\n",
       "      <td>0.0</td>\n",
       "      <td>0.0</td>\n",
       "    </tr>\n",
       "    <tr>\n",
       "      <th>2112</th>\n",
       "      <td>99999</td>\n",
       "      <td>31170</td>\n",
       "      <td>Austin Perkins</td>\n",
       "      <td>00:00:00</td>\n",
       "      <td>2018</td>\n",
       "      <td>0 days</td>\n",
       "      <td>0 days 00:00:00</td>\n",
       "      <td>0 days 00:00:00.000000000</td>\n",
       "      <td>0.0</td>\n",
       "      <td>0.0</td>\n",
       "      <td>0.0</td>\n",
       "      <td>0.0</td>\n",
       "    </tr>\n",
       "    <tr>\n",
       "      <th>2113</th>\n",
       "      <td>99999</td>\n",
       "      <td>31515</td>\n",
       "      <td>Tony Quernemoen</td>\n",
       "      <td>00:00:00</td>\n",
       "      <td>2018</td>\n",
       "      <td>0 days</td>\n",
       "      <td>0 days 00:00:00</td>\n",
       "      <td>0 days 00:00:00.000000000</td>\n",
       "      <td>0.0</td>\n",
       "      <td>0.0</td>\n",
       "      <td>0.0</td>\n",
       "      <td>0.0</td>\n",
       "    </tr>\n",
       "    <tr>\n",
       "      <th>2114</th>\n",
       "      <td>99999</td>\n",
       "      <td>30482</td>\n",
       "      <td>David Ramos</td>\n",
       "      <td>00:00:00</td>\n",
       "      <td>2018</td>\n",
       "      <td>0 days</td>\n",
       "      <td>0 days 00:00:00</td>\n",
       "      <td>0 days 00:00:00.000000000</td>\n",
       "      <td>0.0</td>\n",
       "      <td>0.0</td>\n",
       "      <td>0.0</td>\n",
       "      <td>0.0</td>\n",
       "    </tr>\n",
       "  </tbody>\n",
       "</table>\n",
       "</div>"
      ],
      "text/plain": [
       "      Overall    Bib             Name      Time  Year TimeDelta  \\\n",
       "2110    99999  31683    Aubrey Spaeth  00:00:00  2018    0 days   \n",
       "2111    99999  33654   Jeffrey Ekkart  00:00:00  2018    0 days   \n",
       "2112    99999  31170   Austin Perkins  00:00:00  2018    0 days   \n",
       "2113    99999  31515  Tony Quernemoen  00:00:00  2018    0 days   \n",
       "2114    99999  30482      David Ramos  00:00:00  2018    0 days   \n",
       "\n",
       "            time_diff          time_diff_stringB  Hours  Minutes  Seconds  \\\n",
       "2110  0 days 00:00:00  0 days 00:00:00.000000000    0.0      0.0      0.0   \n",
       "2111  0 days 00:00:00  0 days 00:00:00.000000000    0.0      0.0      0.0   \n",
       "2112  0 days 00:00:00  0 days 00:00:00.000000000    0.0      0.0      0.0   \n",
       "2113  0 days 00:00:00  0 days 00:00:00.000000000    0.0      0.0      0.0   \n",
       "2114  0 days 00:00:00  0 days 00:00:00.000000000    0.0      0.0      0.0   \n",
       "\n",
       "      Number_Of_Minutes  \n",
       "2110                0.0  \n",
       "2111                0.0  \n",
       "2112                0.0  \n",
       "2113                0.0  \n",
       "2114                0.0  "
      ]
     },
     "execution_count": 51,
     "metadata": {},
     "output_type": "execute_result"
    }
   ],
   "source": [
    "full_2018_df.tail()"
   ]
  },
  {
   "cell_type": "markdown",
   "metadata": {},
   "source": [
    "# This is where I'm trying to make the numerical time differential.\n",
    "\n",
    "I think the issue is that we have NaT for the first place entry, so I'm going to replace it with zero. I can't drop the value, because the first entry will always have a NaT time differential.\n",
    "\n",
    "Dammit Scott! It's not always about you."
   ]
  },
  {
   "cell_type": "code",
   "execution_count": 45,
   "metadata": {},
   "outputs": [],
   "source": [
    "full_2018_df.loc[0,'time_diff_stringB']= '0 days 00:00:00.000000000'"
   ]
  },
  {
   "cell_type": "code",
   "execution_count": 47,
   "metadata": {},
   "outputs": [],
   "source": [
    "full_2018_df.loc[0,'time_diff']= '00:00:00'"
   ]
  },
  {
   "cell_type": "code",
   "execution_count": 49,
   "metadata": {},
   "outputs": [
    {
     "data": {
      "text/plain": [
       "Overall                        int64\n",
       "Bib                            int64\n",
       "Name                          object\n",
       "Time                          object\n",
       "Year                           int64\n",
       "TimeDelta            timedelta64[ns]\n",
       "time_diff                     object\n",
       "time_diff_stringB             object\n",
       "Hours                        float64\n",
       "Minutes                      float64\n",
       "Seconds                      float64\n",
       "Number_Of_Minutes            float64\n",
       "dtype: object"
      ]
     },
     "execution_count": 49,
     "metadata": {},
     "output_type": "execute_result"
    }
   ],
   "source": [
    "full_2018_df.dtypes"
   ]
  },
  {
   "cell_type": "code",
   "execution_count": 50,
   "metadata": {},
   "outputs": [
    {
     "ename": "ValueError",
     "evalue": "could not convert string to float: ' +'",
     "output_type": "error",
     "traceback": [
      "\u001b[1;31m---------------------------------------------------------------------------\u001b[0m",
      "\u001b[1;31mValueError\u001b[0m                                Traceback (most recent call last)",
      "\u001b[1;32m<ipython-input-50-0ac61d4177cd>\u001b[0m in \u001b[0;36m<module>\u001b[1;34m\u001b[0m\n\u001b[1;32m----> 1\u001b[1;33m \u001b[0mfull_2018_df\u001b[0m\u001b[1;33m[\u001b[0m\u001b[1;34m'time_diff_hours'\u001b[0m\u001b[1;33m]\u001b[0m \u001b[1;33m=\u001b[0m \u001b[0mfull_2018_df\u001b[0m\u001b[1;33m.\u001b[0m\u001b[0mtime_diff_stringB\u001b[0m\u001b[1;33m.\u001b[0m\u001b[0mstr\u001b[0m\u001b[1;33m[\u001b[0m\u001b[1;36m7\u001b[0m\u001b[1;33m:\u001b[0m\u001b[1;36m9\u001b[0m\u001b[1;33m]\u001b[0m\u001b[1;33m.\u001b[0m\u001b[0mastype\u001b[0m\u001b[1;33m(\u001b[0m\u001b[0mfloat\u001b[0m\u001b[1;33m)\u001b[0m\u001b[1;33m\u001b[0m\u001b[1;33m\u001b[0m\u001b[0m\n\u001b[0m",
      "\u001b[1;32m~\\Anaconda3_new\\lib\\site-packages\\pandas\\core\\generic.py\u001b[0m in \u001b[0;36mastype\u001b[1;34m(self, dtype, copy, errors, **kwargs)\u001b[0m\n\u001b[0;32m   5689\u001b[0m             \u001b[1;31m# else, only a single dtype is given\u001b[0m\u001b[1;33m\u001b[0m\u001b[1;33m\u001b[0m\u001b[1;33m\u001b[0m\u001b[0m\n\u001b[0;32m   5690\u001b[0m             new_data = self._data.astype(dtype=dtype, copy=copy, errors=errors,\n\u001b[1;32m-> 5691\u001b[1;33m                                          **kwargs)\n\u001b[0m\u001b[0;32m   5692\u001b[0m             \u001b[1;32mreturn\u001b[0m \u001b[0mself\u001b[0m\u001b[1;33m.\u001b[0m\u001b[0m_constructor\u001b[0m\u001b[1;33m(\u001b[0m\u001b[0mnew_data\u001b[0m\u001b[1;33m)\u001b[0m\u001b[1;33m.\u001b[0m\u001b[0m__finalize__\u001b[0m\u001b[1;33m(\u001b[0m\u001b[0mself\u001b[0m\u001b[1;33m)\u001b[0m\u001b[1;33m\u001b[0m\u001b[1;33m\u001b[0m\u001b[0m\n\u001b[0;32m   5693\u001b[0m \u001b[1;33m\u001b[0m\u001b[0m\n",
      "\u001b[1;32m~\\Anaconda3_new\\lib\\site-packages\\pandas\\core\\internals\\managers.py\u001b[0m in \u001b[0;36mastype\u001b[1;34m(self, dtype, **kwargs)\u001b[0m\n\u001b[0;32m    529\u001b[0m \u001b[1;33m\u001b[0m\u001b[0m\n\u001b[0;32m    530\u001b[0m     \u001b[1;32mdef\u001b[0m \u001b[0mastype\u001b[0m\u001b[1;33m(\u001b[0m\u001b[0mself\u001b[0m\u001b[1;33m,\u001b[0m \u001b[0mdtype\u001b[0m\u001b[1;33m,\u001b[0m \u001b[1;33m**\u001b[0m\u001b[0mkwargs\u001b[0m\u001b[1;33m)\u001b[0m\u001b[1;33m:\u001b[0m\u001b[1;33m\u001b[0m\u001b[1;33m\u001b[0m\u001b[0m\n\u001b[1;32m--> 531\u001b[1;33m         \u001b[1;32mreturn\u001b[0m \u001b[0mself\u001b[0m\u001b[1;33m.\u001b[0m\u001b[0mapply\u001b[0m\u001b[1;33m(\u001b[0m\u001b[1;34m'astype'\u001b[0m\u001b[1;33m,\u001b[0m \u001b[0mdtype\u001b[0m\u001b[1;33m=\u001b[0m\u001b[0mdtype\u001b[0m\u001b[1;33m,\u001b[0m \u001b[1;33m**\u001b[0m\u001b[0mkwargs\u001b[0m\u001b[1;33m)\u001b[0m\u001b[1;33m\u001b[0m\u001b[1;33m\u001b[0m\u001b[0m\n\u001b[0m\u001b[0;32m    532\u001b[0m \u001b[1;33m\u001b[0m\u001b[0m\n\u001b[0;32m    533\u001b[0m     \u001b[1;32mdef\u001b[0m \u001b[0mconvert\u001b[0m\u001b[1;33m(\u001b[0m\u001b[0mself\u001b[0m\u001b[1;33m,\u001b[0m \u001b[1;33m**\u001b[0m\u001b[0mkwargs\u001b[0m\u001b[1;33m)\u001b[0m\u001b[1;33m:\u001b[0m\u001b[1;33m\u001b[0m\u001b[1;33m\u001b[0m\u001b[0m\n",
      "\u001b[1;32m~\\Anaconda3_new\\lib\\site-packages\\pandas\\core\\internals\\managers.py\u001b[0m in \u001b[0;36mapply\u001b[1;34m(self, f, axes, filter, do_integrity_check, consolidate, **kwargs)\u001b[0m\n\u001b[0;32m    393\u001b[0m                                             copy=align_copy)\n\u001b[0;32m    394\u001b[0m \u001b[1;33m\u001b[0m\u001b[0m\n\u001b[1;32m--> 395\u001b[1;33m             \u001b[0mapplied\u001b[0m \u001b[1;33m=\u001b[0m \u001b[0mgetattr\u001b[0m\u001b[1;33m(\u001b[0m\u001b[0mb\u001b[0m\u001b[1;33m,\u001b[0m \u001b[0mf\u001b[0m\u001b[1;33m)\u001b[0m\u001b[1;33m(\u001b[0m\u001b[1;33m**\u001b[0m\u001b[0mkwargs\u001b[0m\u001b[1;33m)\u001b[0m\u001b[1;33m\u001b[0m\u001b[1;33m\u001b[0m\u001b[0m\n\u001b[0m\u001b[0;32m    396\u001b[0m             \u001b[0mresult_blocks\u001b[0m \u001b[1;33m=\u001b[0m \u001b[0m_extend_blocks\u001b[0m\u001b[1;33m(\u001b[0m\u001b[0mapplied\u001b[0m\u001b[1;33m,\u001b[0m \u001b[0mresult_blocks\u001b[0m\u001b[1;33m)\u001b[0m\u001b[1;33m\u001b[0m\u001b[1;33m\u001b[0m\u001b[0m\n\u001b[0;32m    397\u001b[0m \u001b[1;33m\u001b[0m\u001b[0m\n",
      "\u001b[1;32m~\\Anaconda3_new\\lib\\site-packages\\pandas\\core\\internals\\blocks.py\u001b[0m in \u001b[0;36mastype\u001b[1;34m(self, dtype, copy, errors, values, **kwargs)\u001b[0m\n\u001b[0;32m    532\u001b[0m     \u001b[1;32mdef\u001b[0m \u001b[0mastype\u001b[0m\u001b[1;33m(\u001b[0m\u001b[0mself\u001b[0m\u001b[1;33m,\u001b[0m \u001b[0mdtype\u001b[0m\u001b[1;33m,\u001b[0m \u001b[0mcopy\u001b[0m\u001b[1;33m=\u001b[0m\u001b[1;32mFalse\u001b[0m\u001b[1;33m,\u001b[0m \u001b[0merrors\u001b[0m\u001b[1;33m=\u001b[0m\u001b[1;34m'raise'\u001b[0m\u001b[1;33m,\u001b[0m \u001b[0mvalues\u001b[0m\u001b[1;33m=\u001b[0m\u001b[1;32mNone\u001b[0m\u001b[1;33m,\u001b[0m \u001b[1;33m**\u001b[0m\u001b[0mkwargs\u001b[0m\u001b[1;33m)\u001b[0m\u001b[1;33m:\u001b[0m\u001b[1;33m\u001b[0m\u001b[1;33m\u001b[0m\u001b[0m\n\u001b[0;32m    533\u001b[0m         return self._astype(dtype, copy=copy, errors=errors, values=values,\n\u001b[1;32m--> 534\u001b[1;33m                             **kwargs)\n\u001b[0m\u001b[0;32m    535\u001b[0m \u001b[1;33m\u001b[0m\u001b[0m\n\u001b[0;32m    536\u001b[0m     def _astype(self, dtype, copy=False, errors='raise', values=None,\n",
      "\u001b[1;32m~\\Anaconda3_new\\lib\\site-packages\\pandas\\core\\internals\\blocks.py\u001b[0m in \u001b[0;36m_astype\u001b[1;34m(self, dtype, copy, errors, values, **kwargs)\u001b[0m\n\u001b[0;32m    631\u001b[0m \u001b[1;33m\u001b[0m\u001b[0m\n\u001b[0;32m    632\u001b[0m                     \u001b[1;31m# _astype_nansafe works fine with 1-d only\u001b[0m\u001b[1;33m\u001b[0m\u001b[1;33m\u001b[0m\u001b[1;33m\u001b[0m\u001b[0m\n\u001b[1;32m--> 633\u001b[1;33m                     \u001b[0mvalues\u001b[0m \u001b[1;33m=\u001b[0m \u001b[0mastype_nansafe\u001b[0m\u001b[1;33m(\u001b[0m\u001b[0mvalues\u001b[0m\u001b[1;33m.\u001b[0m\u001b[0mravel\u001b[0m\u001b[1;33m(\u001b[0m\u001b[1;33m)\u001b[0m\u001b[1;33m,\u001b[0m \u001b[0mdtype\u001b[0m\u001b[1;33m,\u001b[0m \u001b[0mcopy\u001b[0m\u001b[1;33m=\u001b[0m\u001b[1;32mTrue\u001b[0m\u001b[1;33m)\u001b[0m\u001b[1;33m\u001b[0m\u001b[1;33m\u001b[0m\u001b[0m\n\u001b[0m\u001b[0;32m    634\u001b[0m \u001b[1;33m\u001b[0m\u001b[0m\n\u001b[0;32m    635\u001b[0m                 \u001b[1;31m# TODO(extension)\u001b[0m\u001b[1;33m\u001b[0m\u001b[1;33m\u001b[0m\u001b[1;33m\u001b[0m\u001b[0m\n",
      "\u001b[1;32m~\\Anaconda3_new\\lib\\site-packages\\pandas\\core\\dtypes\\cast.py\u001b[0m in \u001b[0;36mastype_nansafe\u001b[1;34m(arr, dtype, copy, skipna)\u001b[0m\n\u001b[0;32m    700\u001b[0m     \u001b[1;32mif\u001b[0m \u001b[0mcopy\u001b[0m \u001b[1;32mor\u001b[0m \u001b[0mis_object_dtype\u001b[0m\u001b[1;33m(\u001b[0m\u001b[0marr\u001b[0m\u001b[1;33m)\u001b[0m \u001b[1;32mor\u001b[0m \u001b[0mis_object_dtype\u001b[0m\u001b[1;33m(\u001b[0m\u001b[0mdtype\u001b[0m\u001b[1;33m)\u001b[0m\u001b[1;33m:\u001b[0m\u001b[1;33m\u001b[0m\u001b[1;33m\u001b[0m\u001b[0m\n\u001b[0;32m    701\u001b[0m         \u001b[1;31m# Explicit copy, or required since NumPy can't view from / to object.\u001b[0m\u001b[1;33m\u001b[0m\u001b[1;33m\u001b[0m\u001b[1;33m\u001b[0m\u001b[0m\n\u001b[1;32m--> 702\u001b[1;33m         \u001b[1;32mreturn\u001b[0m \u001b[0marr\u001b[0m\u001b[1;33m.\u001b[0m\u001b[0mastype\u001b[0m\u001b[1;33m(\u001b[0m\u001b[0mdtype\u001b[0m\u001b[1;33m,\u001b[0m \u001b[0mcopy\u001b[0m\u001b[1;33m=\u001b[0m\u001b[1;32mTrue\u001b[0m\u001b[1;33m)\u001b[0m\u001b[1;33m\u001b[0m\u001b[1;33m\u001b[0m\u001b[0m\n\u001b[0m\u001b[0;32m    703\u001b[0m \u001b[1;33m\u001b[0m\u001b[0m\n\u001b[0;32m    704\u001b[0m     \u001b[1;32mreturn\u001b[0m \u001b[0marr\u001b[0m\u001b[1;33m.\u001b[0m\u001b[0mview\u001b[0m\u001b[1;33m(\u001b[0m\u001b[0mdtype\u001b[0m\u001b[1;33m)\u001b[0m\u001b[1;33m\u001b[0m\u001b[1;33m\u001b[0m\u001b[0m\n",
      "\u001b[1;31mValueError\u001b[0m: could not convert string to float: ' +'"
     ]
    }
   ],
   "source": [
    "full_2018_df['time_diff_hours'] = full_2018_df.time_diff_stringB.str[7:9].astype(float)"
   ]
  },
  {
   "cell_type": "markdown",
   "metadata": {},
   "source": [
    "# Markdown: I'm shutting down for the day, but I'll revisit here tomorrow. "
   ]
  },
  {
   "cell_type": "code",
   "execution_count": null,
   "metadata": {},
   "outputs": [],
   "source": [
    "full_2018_df['time_diff_minutes'] = full_2018_df.time_diff_stringB.str[10:12].astype(float)"
   ]
  },
  {
   "cell_type": "code",
   "execution_count": null,
   "metadata": {},
   "outputs": [],
   "source": [
    "full_2018_df['time_diff_seconds'] = full_2018_df.time_diff_stringB.str[13:15].astype(float)"
   ]
  },
  {
   "cell_type": "code",
   "execution_count": null,
   "metadata": {},
   "outputs": [],
   "source": [
    "full_2018_df['time_diff_thingy'] = ((full_2018_df.time_diff_hours * 60)) + ((full_2018_df.time_diff_minutes)) + ((full_2018_df.time_diff_seconds)/(60))"
   ]
  },
  {
   "cell_type": "code",
   "execution_count": null,
   "metadata": {},
   "outputs": [],
   "source": []
  },
  {
   "cell_type": "code",
   "execution_count": null,
   "metadata": {},
   "outputs": [],
   "source": []
  },
  {
   "cell_type": "code",
   "execution_count": null,
   "metadata": {},
   "outputs": [],
   "source": []
  },
  {
   "cell_type": "code",
   "execution_count": null,
   "metadata": {},
   "outputs": [],
   "source": [
    "full_2018_df.head()"
   ]
  },
  {
   "cell_type": "code",
   "execution_count": null,
   "metadata": {},
   "outputs": [],
   "source": [
    "full_2018_df.dtypes"
   ]
  },
  {
   "cell_type": "code",
   "execution_count": null,
   "metadata": {},
   "outputs": [],
   "source": [
    "full_2018_df.time_diff.describe()"
   ]
  },
  {
   "cell_type": "code",
   "execution_count": null,
   "metadata": {},
   "outputs": [],
   "source": [
    "full_2018_df.loc[full_2018_df['time_diff'].idxmin()]"
   ]
  },
  {
   "cell_type": "code",
   "execution_count": null,
   "metadata": {},
   "outputs": [],
   "source": [
    "full_2018_df = full_2018_df[full_2018_df.Time != '00:00:00' ]"
   ]
  },
  {
   "cell_type": "markdown",
   "metadata": {},
   "source": [
    "# OK let's try doing the conversion to # of seconds"
   ]
  },
  {
   "cell_type": "code",
   "execution_count": null,
   "metadata": {},
   "outputs": [],
   "source": [
    "full_2018_df['Hours'] = full_2018_df.Time.str[0:2].astype(float)"
   ]
  },
  {
   "cell_type": "code",
   "execution_count": null,
   "metadata": {},
   "outputs": [],
   "source": [
    "full_2018_df['Minutes'] = full_2018_df.Time.str[3:5].astype(float)"
   ]
  },
  {
   "cell_type": "code",
   "execution_count": null,
   "metadata": {},
   "outputs": [],
   "source": [
    "full_2018_df['Seconds'] = full_2018_df.Time.str[6:8].astype(float)"
   ]
  },
  {
   "cell_type": "code",
   "execution_count": null,
   "metadata": {},
   "outputs": [],
   "source": [
    "full_2018_df['time_diff_string'] = full_2018_df.time_diff.astype(str)"
   ]
  },
  {
   "cell_type": "code",
   "execution_count": null,
   "metadata": {},
   "outputs": [],
   "source": [
    "full_2018_df.head()"
   ]
  },
  {
   "cell_type": "markdown",
   "metadata": {},
   "source": [
    "# Now I do the same conversion for timediff"
   ]
  },
  {
   "cell_type": "code",
   "execution_count": null,
   "metadata": {},
   "outputs": [],
   "source": [
    "full_2018_df['Diff_Hours'] = full_2018_df.time_diff_string.str[0:2].astype(float)"
   ]
  },
  {
   "cell_type": "code",
   "execution_count": null,
   "metadata": {},
   "outputs": [],
   "source": [
    "full_2018_df['Diff_Minutes'] = full_2018_df.time_diff.str[3:5].astype(float)"
   ]
  },
  {
   "cell_type": "code",
   "execution_count": null,
   "metadata": {},
   "outputs": [],
   "source": [
    "full_2018_df['Diff_Seconds'] = full_2018_df.time_diff.str[6:8].astype(float)"
   ]
  },
  {
   "cell_type": "code",
   "execution_count": null,
   "metadata": {},
   "outputs": [],
   "source": [
    "full_2018_df.head()"
   ]
  },
  {
   "cell_type": "code",
   "execution_count": null,
   "metadata": {},
   "outputs": [],
   "source": [
    "full_2018_df.dtypes"
   ]
  },
  {
   "cell_type": "code",
   "execution_count": null,
   "metadata": {},
   "outputs": [],
   "source": [
    "#full_2018_df['Number_Minutes'] = ((full_2018_df.Hours * 60)) + (full_2018_df.Minutes * 1) + (full_2018_df.Seconds * (1/60)))"
   ]
  },
  {
   "cell_type": "markdown",
   "metadata": {},
   "source": [
    "# Note: I think it's functional now: I'm gonna comment out the A B and C things and see if it just works as a formula"
   ]
  },
  {
   "cell_type": "code",
   "execution_count": null,
   "metadata": {},
   "outputs": [],
   "source": [
    "#full_2018_df['Number_Minutes_A'] = ((full_2018_df.Hours * 60))"
   ]
  },
  {
   "cell_type": "code",
   "execution_count": null,
   "metadata": {},
   "outputs": [],
   "source": [
    "#full_2018_df['Number_Minutes_B'] =  ((full_2018_df.Minutes))"
   ]
  },
  {
   "cell_type": "code",
   "execution_count": null,
   "metadata": {},
   "outputs": [],
   "source": [
    "#full_2018_df['Number_Minutes_C'] = ((full_2018_df.Seconds)/(60))"
   ]
  },
  {
   "cell_type": "code",
   "execution_count": null,
   "metadata": {},
   "outputs": [],
   "source": [
    "full_2018_df.dtypes"
   ]
  },
  {
   "cell_type": "code",
   "execution_count": null,
   "metadata": {},
   "outputs": [],
   "source": [
    "full_2018_df['Number_Of_Minutes'] = ((full_2018_df.Hours * 60)) + ((full_2018_df.Minutes)) + ((full_2018_df.Seconds)/(60))"
   ]
  },
  {
   "cell_type": "code",
   "execution_count": null,
   "metadata": {},
   "outputs": [],
   "source": [
    "full_2018_df['Diff_Number_Of_Minutes'] = ((full_2018_df.Diff_Hours * 60)) + ((full_2018_df.Diff_Minutes)) + ((full_2018_df.Diff_Seconds)/(60))"
   ]
  },
  {
   "cell_type": "code",
   "execution_count": null,
   "metadata": {},
   "outputs": [],
   "source": [
    "full_2018_df.head()"
   ]
  },
  {
   "cell_type": "code",
   "execution_count": null,
   "metadata": {},
   "outputs": [],
   "source": [
    "## Without a constant\n",
    "\n",
    "\n",
    "X = full_2018_df.Overall\n",
    "y = full_2018_df.Bib\n",
    "\n",
    "# Note the difference in argument order\n",
    "model = sm.OLS(y, X).fit()\n",
    "predictions = model.predict(X) # make the predictions by the model\n",
    "\n",
    "# Print out the statistics\n",
    "model.summary()"
   ]
  },
  {
   "cell_type": "code",
   "execution_count": null,
   "metadata": {},
   "outputs": [],
   "source": []
  },
  {
   "cell_type": "markdown",
   "metadata": {},
   "source": [
    "# This was just my example regression to see if regression worked- but R-Squared is actually decent. "
   ]
  },
  {
   "cell_type": "code",
   "execution_count": null,
   "metadata": {},
   "outputs": [],
   "source": [
    "full_2018_df.dtypes"
   ]
  },
  {
   "cell_type": "code",
   "execution_count": null,
   "metadata": {},
   "outputs": [],
   "source": []
  }
 ],
 "metadata": {
  "kernelspec": {
   "display_name": "Python 3",
   "language": "python",
   "name": "python3"
  },
  "language_info": {
   "codemirror_mode": {
    "name": "ipython",
    "version": 3
   },
   "file_extension": ".py",
   "mimetype": "text/x-python",
   "name": "python",
   "nbconvert_exporter": "python",
   "pygments_lexer": "ipython3",
   "version": "3.7.3"
  }
 },
 "nbformat": 4,
 "nbformat_minor": 2
}
